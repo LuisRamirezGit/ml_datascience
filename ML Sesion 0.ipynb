{
 "cells": [
  {
   "cell_type": "markdown",
   "metadata": {},
   "source": [
    "# Introduccion al Data Science"
   ]
  },
  {
   "cell_type": "markdown",
   "metadata": {},
   "source": [
    "Def: Persona que sabe mas de estadisitca que cualquiera ingeniero de software y mas de informatica que cualquier estadista.\n",
    "- Hacking Skills vs Math&Statistics vs Substatinve Expertise \n",
    "- Ejemplos: Medicina, Bolsa, Visulacion de datos(mapa de calor), analisis de texto.\n",
    "\n",
    "El Proceso de DS: Unidireccional\n",
    "\n",
    "1- Definición de objetivo: Conocimineto de dominio\n",
    "\n",
    "2- Obtencion de los datos:\n",
    "\n",
    "3- Analisis Exploratorio: Conocimineto de los datos\n",
    "\n",
    "4- Modelado de datos.\n",
    "\n",
    "5- Despligue. Producción\n"
   ]
  },
  {
   "cell_type": "markdown",
   "metadata": {},
   "source": [
    "### 1- Definicion de Objetivos. SMART (Especifico, Medible, Alcanzable, Relevante, Definido en el tiempo)\n",
    "\n",
    "Adquirir el conocimiento de dominio, industria,cliente...\n",
    "Documento de seguimiento(Plantilla en github)"
   ]
  },
  {
   "cell_type": "markdown",
   "metadata": {},
   "source": [
    "### 2- Obtencion de los datos\n",
    "\n",
    "Fuentes de datos_\n",
    "    - Datos Internos, base de datos,archivos de texto..\n",
    "    - Repositorios de datos Abiertos (open Data Inception, UNdata,European Union Open Data Portal)\n",
    "    - APIs: yahoo finance, OpenWeather \n",
    "    - Web scraping (Scrapy,import.io)\n",
    "    "
   ]
  },
  {
   "cell_type": "markdown",
   "metadata": {},
   "source": [
    "### 3- Analisis Exploratorio: Conocimineto de los datos.\n",
    "\n",
    "- Estructurados\n",
    "- Semiestructurados: json,csv,xml\n",
    "- No estructurados: videos, fotos , pdf\n"
   ]
  },
  {
   "cell_type": "markdown",
   "metadata": {},
   "source": [
    "### 4- Estadisticos descriptivos\n",
    "\n",
    "import scipy.stats as stats\n",
    "stats.mode (moda)\n",
    "stats.mstats.mquantiles()\n",
    "stats.skew()\n",
    "stats.kurtosis()\n",
    "\n",
    "\n",
    "np.mean\n",
    "  .median\n",
    "  .max\n",
    "  .min\n",
    "  .std(desviacion estandar)\n",
    "\n",
    "pandas.qcut(quartiles)\n",
    "\n",
    "- Estadisticos de tencencia centreal: Valores mas comunes de la poblacion.\n",
    "       - Media: avg --suma de la muestra/numero de la muestra \n",
    "       - Mediana: Es el valor que divida la muestra en dos partes iguales 50% ordenado de mayor a menor\n",
    "       - Moda: Valor mas frecuente.\n",
    "- Estadisticos de dispersion: Son lo valores que se devia la poblacion respecto a los valores centrales que comentamos arriba.\n",
    "        - Rango:Valor max- el valor min\n",
    "        - IQR  : Rango intercuartil. Dif entre el quartil superior Q3 y el inferior Q1\n",
    "        - Desviacion Tipica y la Varianza: sqrt(varianza: s)\n",
    "- Estadisitcos de forma : Forma y curtosis Momento \n",
    "        - Coeficiente de simetria + cola hacia la derecha\n",
    "                                  - cola hacia la izquierda\n",
    "        - Coeficiente de curtosis:** momento a la cuarta ** distribucion normal + hacia arriba\n",
    "                                                                                - aplanan la distribucion\n",
    "                                                  "
   ]
  },
  {
   "cell_type": "markdown",
   "metadata": {},
   "source": [
    "**Comando tipicos de jupyter.**\n",
    "\n",
    "!conda env list\n",
    "\n",
    "source activate data \n",
    "\n",
    "jupyter notebook\n",
    "Aprovechar de pandas? o ??"
   ]
  },
  {
   "cell_type": "code",
   "execution_count": 2,
   "metadata": {},
   "outputs": [
    {
     "ename": "ModuleNotFoundError",
     "evalue": "No module named 'pandas'",
     "output_type": "error",
     "traceback": [
      "\u001b[1;31m---------------------------------------------------------------------------\u001b[0m",
      "\u001b[1;31mModuleNotFoundError\u001b[0m                       Traceback (most recent call last)",
      "\u001b[1;32mc:\\Users\\Luis\\Desktop\\ml_datascience\\ML Sesion 0.ipynb Cell 8'\u001b[0m in \u001b[0;36m<cell line: 1>\u001b[1;34m()\u001b[0m\n\u001b[1;32m----> <a href='vscode-notebook-cell:/c%3A/Users/Luis/Desktop/ml_datascience/ML%20Sesion%200.ipynb#ch0000007?line=0'>1</a>\u001b[0m \u001b[39mimport\u001b[39;00m \u001b[39mpandas\u001b[39;00m \u001b[39mas\u001b[39;00m \u001b[39mpd\u001b[39;00m\n\u001b[0;32m      <a href='vscode-notebook-cell:/c%3A/Users/Luis/Desktop/ml_datascience/ML%20Sesion%200.ipynb#ch0000007?line=1'>2</a>\u001b[0m get_ipython()\u001b[39m.\u001b[39mrun_line_magic(\u001b[39m'\u001b[39m\u001b[39mpinfo\u001b[39m\u001b[39m'\u001b[39m, \u001b[39m'\u001b[39m\u001b[39mpd\u001b[39m\u001b[39m'\u001b[39m)\n",
      "\u001b[1;31mModuleNotFoundError\u001b[0m: No module named 'pandas'"
     ]
    }
   ],
   "source": [
    "import pandas as pd\n",
    "pd?"
   ]
  },
  {
   "cell_type": "code",
   "execution_count": 20,
   "metadata": {},
   "outputs": [
    {
     "ename": "SyntaxError",
     "evalue": "invalid syntax (<ipython-input-20-67b91366b3ee>, line 2)",
     "output_type": "error",
     "traceback": [
      "\u001b[1;36m  File \u001b[1;32m\"<ipython-input-20-67b91366b3ee>\"\u001b[1;36m, line \u001b[1;32m2\u001b[0m\n\u001b[1;33m    jupyter notebook --generate-config\u001b[0m\n\u001b[1;37m                   ^\u001b[0m\n\u001b[1;31mSyntaxError\u001b[0m\u001b[1;31m:\u001b[0m invalid syntax\n"
     ]
    }
   ],
   "source": [
    "#Si queremos configurar el directorio en el cual se abra jupyter por defecto\n",
    "jupyter notebook --generate-config\n",
    "#buscamos el parametro nootbook_dir y descomentamos añadiendo la ruta/../../.. "
   ]
  },
  {
   "cell_type": "markdown",
   "metadata": {},
   "source": [
    "# instalar paquetes desde jupyter"
   ]
  },
  {
   "cell_type": "code",
   "execution_count": 167,
   "metadata": {},
   "outputs": [
    {
     "name": "stdout",
     "output_type": "stream",
     "text": [
      "2020-04-09T19:34:18+02:00\n",
      "\n",
      "CPython 3.7.4\n",
      "IPython 7.8.0\n",
      "\n",
      "compiler   : Clang 4.0.1 (tags/RELEASE_401/final)\n",
      "system     : Darwin\n",
      "release    : 19.2.0\n",
      "machine    : x86_64\n",
      "processor  : i386\n",
      "CPU cores  : 8\n",
      "interpreter: 64bit\n"
     ]
    }
   ],
   "source": [
    "#marca de agua\n",
    "%load_ext watermark\n",
    "%watermark"
   ]
  },
  {
   "cell_type": "code",
   "execution_count": 2,
   "metadata": {},
   "outputs": [
    {
     "name": "stdout",
     "output_type": "stream",
     "text": [
      "/bin/sh: activate: command not found\r\n"
     ]
    }
   ],
   "source": [
    "#Activar un entorno en conda linux o mac : !source activate data\n",
    "#windows\n",
    "!activate enviorement_ml"
   ]
  },
  {
   "cell_type": "code",
   "execution_count": 12,
   "metadata": {
    "scrolled": true
   },
   "outputs": [
    {
     "name": "stdout",
     "output_type": "stream",
     "text": [
      "Collecting Luis\n",
      "  Downloading https://files.pythonhosted.org/packages/3a/49/8e6a31e1ddb1673e2e6e912ffb5abc7d1da97d9d79b1aa8a37d0732b756b/luis-2.0.2.tar.gz\n",
      "Collecting pip\n",
      "  Using cached https://files.pythonhosted.org/packages/54/0c/d01aa759fdc501a58f431eb594a17495f15b88da142ce14b5845662c13f3/pip-20.0.2-py2.py3-none-any.whl\n",
      "Requirement not upgraded as not directly required: requests in c:\\program files (x86)\\microsoft visual studio\\shared\\anaconda3_64\\lib\\site-packages (from Luis) (2.18.4)\n",
      "Requirement not upgraded as not directly required: chardet<3.1.0,>=3.0.2 in c:\\program files (x86)\\microsoft visual studio\\shared\\anaconda3_64\\lib\\site-packages (from requests->Luis) (3.0.4)\n",
      "Requirement not upgraded as not directly required: idna<2.7,>=2.5 in c:\\program files (x86)\\microsoft visual studio\\shared\\anaconda3_64\\lib\\site-packages (from requests->Luis) (2.6)\n",
      "Requirement not upgraded as not directly required: urllib3<1.23,>=1.21.1 in c:\\program files (x86)\\microsoft visual studio\\shared\\anaconda3_64\\lib\\site-packages (from requests->Luis) (1.22)\n",
      "Requirement not upgraded as not directly required: certifi>=2017.4.17 in c:\\program files (x86)\\microsoft visual studio\\shared\\anaconda3_64\\lib\\site-packages (from requests->Luis) (2019.11.28)\n",
      "Building wheels for collected packages: Luis\n",
      "  Running setup.py bdist_wheel for Luis: started\n",
      "  Running setup.py bdist_wheel for Luis: finished with status 'done'\n",
      "  Stored in directory: C:\\Users\\Luis\\AppData\\Local\\pip\\Cache\\wheels\\10\\5b\\5f\\05bb4e1abf38ef530f117c158c28ab30af9bb4664fd3ec8586\n",
      "Successfully built Luis\n",
      "Installing collected packages: Luis, pip\n",
      "Successfully installed Luis-2.0.2 pip-20.0.2\n"
     ]
    },
    {
     "name": "stderr",
     "output_type": "stream",
     "text": [
      "distributed 1.21.8 requires msgpack, which is not installed.\n",
      "You are using pip version 10.0.1, however version 20.0.2 is available.\n",
      "You should consider upgrading via the 'python -m pip install --upgrade pip' command.\n"
     ]
    }
   ],
   "source": [
    "!python -m pip install --user Luis --upgrade pip"
   ]
  },
  {
   "cell_type": "code",
   "execution_count": 4,
   "metadata": {
    "scrolled": true
   },
   "outputs": [
    {
     "name": "stdout",
     "output_type": "stream",
     "text": [
      "Collecting request\n",
      "  Using cached request-2019.4.13.tar.gz (1.3 kB)\n",
      "Collecting get\n",
      "  Using cached get-2019.4.13.tar.gz (1.3 kB)\n",
      "Collecting post\n",
      "  Using cached post-2019.4.13.tar.gz (1.3 kB)\n",
      "Requirement already satisfied: setuptools in c:\\users\\luis\\anaconda3\\lib\\site-packages (from request) (45.2.0.post20200210)\n",
      "Collecting query_string\n",
      "  Using cached query-string-2019.4.13.tar.gz (1.6 kB)\n",
      "Collecting public\n",
      "  Using cached public-2019.4.13.tar.gz (2.3 kB)\n",
      "Building wheels for collected packages: request, get, post, query-string, public\n",
      "  Building wheel for request (setup.py): started\n",
      "  Building wheel for request (setup.py): finished with status 'done'\n",
      "  Created wheel for request: filename=request-2019.4.13-py3-none-any.whl size=1681 sha256=6a931c180f7f2f37c6ed7cb9dfa12c801b772bfc8511a9c858ef9ec34d87b34b\n",
      "  Stored in directory: c:\\users\\luis\\appdata\\local\\pip\\cache\\wheels\\64\\72\\88\\16c724a5bf835bcbc97d530afe0e4bbe73d3e931664cc3d3a6\n",
      "  Building wheel for get (setup.py): started\n",
      "  Building wheel for get (setup.py): finished with status 'done'\n",
      "  Created wheel for get: filename=get-2019.4.13-py3-none-any.whl size=1696 sha256=9ca52de9bf3d0af1471cb8382d2a4dcee2ae271abf60af72df201510ad9a9663\n",
      "  Stored in directory: c:\\users\\luis\\appdata\\local\\pip\\cache\\wheels\\bc\\27\\df\\d886645ae9f701489e8249b93e97101894d1ed50a1bdb8eac2\n",
      "  Building wheel for post (setup.py): started\n",
      "  Building wheel for post (setup.py): finished with status 'done'\n",
      "  Created wheel for post: filename=post-2019.4.13-py3-none-any.whl size=1665 sha256=b50c476e324e26a1cb8b57673ffed9ff628971d968abbdde48f963054d976455\n",
      "  Stored in directory: c:\\users\\luis\\appdata\\local\\pip\\cache\\wheels\\9f\\d3\\34\\b0a3214e4fa22b3020c45c3d89200b67220c80095d345403e3\n",
      "  Building wheel for query-string (setup.py): started\n",
      "  Building wheel for query-string (setup.py): finished with status 'done'\n",
      "  Created wheel for query-string: filename=query_string-2019.4.13-py3-none-any.whl size=2054 sha256=d75cb7eddcd25c905d9f8d6d6038587914976aff6bbbfc6c9d572a315189833c\n",
      "  Stored in directory: c:\\users\\luis\\appdata\\local\\pip\\cache\\wheels\\e5\\ab\\b1\\9ca74f01aff33324a9e175fe2a8c140725f60548d127574690\n",
      "  Building wheel for public (setup.py): started\n",
      "  Building wheel for public (setup.py): finished with status 'done'\n",
      "  Created wheel for public: filename=public-2019.4.13-py3-none-any.whl size=2540 sha256=aa7b63141e1acbd73f1750b23931350dee2877aa21ec56375a3185c92061038f\n",
      "  Stored in directory: c:\\users\\luis\\appdata\\local\\pip\\cache\\wheels\\db\\69\\b3\\c0c7fb2ce5d44ed3d09b495462799b0360ea86303197a924fb\n",
      "Successfully built request get post query-string public\n",
      "Installing collected packages: public, query-string, get, post, request\n",
      "Successfully installed get-2019.4.13 post-2019.4.13 public-2019.4.13 query-string-2019.4.13 request-2019.4.13\n"
     ]
    }
   ],
   "source": [
    "!pip install request"
   ]
  },
  {
   "cell_type": "code",
   "execution_count": 16,
   "metadata": {
    "scrolled": false
   },
   "outputs": [
    {
     "name": "stderr",
     "output_type": "stream",
     "text": [
      "\n",
      "EnvironmentLocationNotFound: Not a conda environment: C:\\Program\n",
      "\n"
     ]
    }
   ],
   "source": [
    "import sys\n",
    "sys.path\n",
    "sys.executable\n",
    "!conda install --yes --prefix {sys.prefix} request\n",
    "!{sys.executable} -m pip install request"
   ]
  },
  {
   "cell_type": "markdown",
   "metadata": {},
   "source": [
    "### Explicamos algo de numpy : \n",
    "Array n dimensional, no deja de ser una lista pero mucho más optimizada ya que todos los elementos los tiene en memoria"
   ]
  },
  {
   "cell_type": "code",
   "execution_count": 13,
   "metadata": {},
   "outputs": [
    {
     "data": {
      "text/plain": [
       "(2, 3)"
      ]
     },
     "execution_count": 13,
     "metadata": {},
     "output_type": "execute_result"
    }
   ],
   "source": [
    "import numpy as np\n",
    "#creamos una lista (array)\n",
    "array_ld= np.array([4.5, 3])\n",
    "type(array_ld)\n",
    "#numero de dimensiones\n",
    "array_ld.ndim\n",
    "#numero de elementos- un vector de longitud dos\n",
    "array_ld.shape\n"
   ]
  },
  {
   "cell_type": "code",
   "execution_count": 15,
   "metadata": {},
   "outputs": [
    {
     "data": {
      "text/plain": [
       "array([[1., 0., 0.],\n",
       "       [0., 1., 0.],\n",
       "       [0., 0., 1.]])"
      ]
     },
     "execution_count": 15,
     "metadata": {},
     "output_type": "execute_result"
    }
   ],
   "source": [
    "#matriz (lista de listas)\n",
    "matriz=np.array([[1,2,3],\n",
    "                 [4,5,6]])\n",
    "matriz.ndim\n",
    "matriz.shape\n",
    "#matrix de nulos\n",
    "np.zeros((3,2))"
   ]
  },
  {
   "cell_type": "code",
   "execution_count": 16,
   "metadata": {},
   "outputs": [
    {
     "data": {
      "text/plain": [
       "array([1., 1.])"
      ]
     },
     "execution_count": 16,
     "metadata": {},
     "output_type": "execute_result"
    }
   ],
   "source": [
    "np.ones((2))"
   ]
  },
  {
   "cell_type": "code",
   "execution_count": 17,
   "metadata": {},
   "outputs": [
    {
     "data": {
      "text/plain": [
       "array([[1., 0., 0.],\n",
       "       [0., 1., 0.],\n",
       "       [0., 0., 1.]])"
      ]
     },
     "execution_count": 17,
     "metadata": {},
     "output_type": "execute_result"
    }
   ],
   "source": [
    "np.eye(3)"
   ]
  },
  {
   "cell_type": "code",
   "execution_count": 20,
   "metadata": {},
   "outputs": [
    {
     "data": {
      "text/plain": [
       "array([[0.63540053, 0.76295989, 0.73609221],\n",
       "       [0.96712784, 0.09312705, 0.72121527]])"
      ]
     },
     "execution_count": 20,
     "metadata": {},
     "output_type": "execute_result"
    }
   ],
   "source": [
    "np.random.random((2,3))"
   ]
  },
  {
   "cell_type": "code",
   "execution_count": 22,
   "metadata": {},
   "outputs": [
    {
     "name": "stdout",
     "output_type": "stream",
     "text": [
      "3.03 ms ± 218 µs per loop (mean ± std. dev. of 7 runs, 100 loops each)\n"
     ]
    }
   ],
   "source": [
    "%%timeit\n",
    "sum(range(100000))"
   ]
  },
  {
   "cell_type": "code",
   "execution_count": 24,
   "metadata": {},
   "outputs": [
    {
     "name": "stdout",
     "output_type": "stream",
     "text": [
      "130 µs ± 19.6 µs per loop (mean ± std. dev. of 7 runs, 10000 loops each)\n"
     ]
    }
   ],
   "source": [
    "%%timeit\n",
    "np.sum(np.arange(100000))"
   ]
  },
  {
   "cell_type": "code",
   "execution_count": 33,
   "metadata": {
    "scrolled": true
   },
   "outputs": [
    {
     "name": "stdout",
     "output_type": "stream",
     "text": [
      "2.82 ms ± 279 µs per loop (mean ± std. dev. of 7 runs, 100 loops each)\n"
     ]
    }
   ],
   "source": [
    "%%timeit\n",
    "# listas de comprension\n",
    "[\"{}\".format(i) for i in range(10000)]"
   ]
  },
  {
   "cell_type": "code",
   "execution_count": 28,
   "metadata": {},
   "outputs": [],
   "source": [
    "#funciones vectorizadas\n",
    "f_vector=np.vectorize(lambda x: \"{}\".format(x))"
   ]
  },
  {
   "cell_type": "code",
   "execution_count": 34,
   "metadata": {},
   "outputs": [
    {
     "name": "stdout",
     "output_type": "stream",
     "text": [
      "5 ms ± 532 µs per loop (mean ± std. dev. of 7 runs, 100 loops each)\n"
     ]
    }
   ],
   "source": [
    "%%timeit\n",
    "f_vector(np.arange(10000))"
   ]
  },
  {
   "cell_type": "code",
   "execution_count": 36,
   "metadata": {},
   "outputs": [
    {
     "data": {
      "text/plain": [
       "array([[0.6683011 , 0.38443765, 0.67770482, 0.64041735],\n",
       "       [0.45340617, 0.42343794, 0.88356513, 0.63754416],\n",
       "       [0.20714844, 0.42342401, 0.18791079, 0.93476349]])"
      ]
     },
     "execution_count": 36,
     "metadata": {},
     "output_type": "execute_result"
    }
   ],
   "source": [
    "matriz_34=np.random.random((3,4))\n",
    "matriz_34"
   ]
  },
  {
   "cell_type": "code",
   "execution_count": 37,
   "metadata": {},
   "outputs": [
    {
     "data": {
      "text/plain": [
       "array([0.6683011 , 0.38443765, 0.67770482, 0.64041735])"
      ]
     },
     "execution_count": 37,
     "metadata": {},
     "output_type": "execute_result"
    }
   ],
   "source": [
    "matriz_34[0]"
   ]
  },
  {
   "cell_type": "code",
   "execution_count": 38,
   "metadata": {},
   "outputs": [
    {
     "data": {
      "text/plain": [
       "array([0.38443765, 0.42343794, 0.42342401])"
      ]
     },
     "execution_count": 38,
     "metadata": {},
     "output_type": "execute_result"
    }
   ],
   "source": [
    "#quiero la segunda columna: primera dimension que son las filas todo\n",
    "matriz_34[:,1]"
   ]
  },
  {
   "cell_type": "code",
   "execution_count": 40,
   "metadata": {},
   "outputs": [],
   "source": [
    "matriz32=np.array([[1,3],\n",
    "                  [2,4],\n",
    "                  [6,8]])\n",
    "matriz32"
   ]
  },
  {
   "cell_type": "code",
   "execution_count": 41,
   "metadata": {},
   "outputs": [
    {
     "data": {
      "text/plain": [
       "array([[False, False],\n",
       "       [False,  True],\n",
       "       [ True,  True]])"
      ]
     },
     "execution_count": 41,
     "metadata": {},
     "output_type": "execute_result"
    }
   ],
   "source": [
    "indice_filtrado=matriz32>3\n",
    "indice_filtrado"
   ]
  },
  {
   "cell_type": "code",
   "execution_count": 42,
   "metadata": {
    "scrolled": true
   },
   "outputs": [
    {
     "data": {
      "text/plain": [
       "array([4, 6, 8])"
      ]
     },
     "execution_count": 42,
     "metadata": {},
     "output_type": "execute_result"
    }
   ],
   "source": [
    "matriz32[indice_filtrado]"
   ]
  },
  {
   "cell_type": "code",
   "execution_count": null,
   "metadata": {},
   "outputs": [],
   "source": [
    "#operaciones\n",
    "array1=np.array([[2,3],[5,6]])\n",
    "array2=np.array([[22,3],[5,0]])\n",
    "array1*array2"
   ]
  },
  {
   "cell_type": "code",
   "execution_count": null,
   "metadata": {},
   "outputs": [],
   "source": [
    "#multiplicacion matricial \n",
    "array1@array2"
   ]
  },
  {
   "cell_type": "markdown",
   "metadata": {},
   "source": [
    "### Introduccion a Pandas"
   ]
  },
  {
   "cell_type": "code",
   "execution_count": 2,
   "metadata": {},
   "outputs": [
    {
     "data": {
      "text/plain": [
       "'1.0.1'"
      ]
     },
     "execution_count": 2,
     "metadata": {},
     "output_type": "execute_result"
    }
   ],
   "source": [
    "import pandas as pd\n",
    "#version\n",
    "pd.__version__"
   ]
  },
  {
   "cell_type": "code",
   "execution_count": 45,
   "metadata": {},
   "outputs": [
    {
     "data": {
      "text/html": [
       "<div>\n",
       "<style scoped>\n",
       "    .dataframe tbody tr th:only-of-type {\n",
       "        vertical-align: middle;\n",
       "    }\n",
       "\n",
       "    .dataframe tbody tr th {\n",
       "        vertical-align: top;\n",
       "    }\n",
       "\n",
       "    .dataframe thead th {\n",
       "        text-align: right;\n",
       "    }\n",
       "</style>\n",
       "<table border=\"1\" class=\"dataframe\">\n",
       "  <thead>\n",
       "    <tr style=\"text-align: right;\">\n",
       "      <th></th>\n",
       "      <th>nombre</th>\n",
       "      <th>apellidos</th>\n",
       "      <th>edad</th>\n",
       "    </tr>\n",
       "  </thead>\n",
       "  <tbody>\n",
       "    <tr>\n",
       "      <th>0</th>\n",
       "      <td>Luis</td>\n",
       "      <td>ramirez</td>\n",
       "      <td>25</td>\n",
       "    </tr>\n",
       "    <tr>\n",
       "      <th>1</th>\n",
       "      <td>Morty</td>\n",
       "      <td>garcia</td>\n",
       "      <td>45</td>\n",
       "    </tr>\n",
       "  </tbody>\n",
       "</table>\n",
       "</div>"
      ],
      "text/plain": [
       "  nombre apellidos  edad\n",
       "0   Luis   ramirez    25\n",
       "1  Morty    garcia    45"
      ]
     },
     "execution_count": 45,
     "metadata": {},
     "output_type": "execute_result"
    }
   ],
   "source": [
    "#dataframe.(tabla)\n",
    "rick_monty=pd.DataFrame({\n",
    "    \"nombre\":[\"Luis\",\"Morty\"],\n",
    "    \"apellidos\":[\"ramirez\",\"garcia\"],\n",
    "    \"edad\":[25,45]\n",
    "}\n",
    "    )\n",
    "rick_monty\n"
   ]
  },
  {
   "cell_type": "code",
   "execution_count": 46,
   "metadata": {},
   "outputs": [
    {
     "data": {
      "text/plain": [
       "pandas.core.frame.DataFrame"
      ]
     },
     "execution_count": 46,
     "metadata": {},
     "output_type": "execute_result"
    }
   ],
   "source": [
    "type(rick_monty)"
   ]
  },
  {
   "cell_type": "code",
   "execution_count": 175,
   "metadata": {},
   "outputs": [
    {
     "data": {
      "text/html": [
       "<div>\n",
       "<style scoped>\n",
       "    .dataframe tbody tr th:only-of-type {\n",
       "        vertical-align: middle;\n",
       "    }\n",
       "\n",
       "    .dataframe tbody tr th {\n",
       "        vertical-align: top;\n",
       "    }\n",
       "\n",
       "    .dataframe thead th {\n",
       "        text-align: right;\n",
       "    }\n",
       "</style>\n",
       "<table border=\"1\" class=\"dataframe\">\n",
       "  <thead>\n",
       "    <tr style=\"text-align: right;\">\n",
       "      <th></th>\n",
       "      <th>nombre</th>\n",
       "      <th>apellidos</th>\n",
       "      <th>edad</th>\n",
       "    </tr>\n",
       "  </thead>\n",
       "  <tbody>\n",
       "    <tr>\n",
       "      <td>0</td>\n",
       "      <td>Luis</td>\n",
       "      <td>ramirez</td>\n",
       "      <td>25</td>\n",
       "    </tr>\n",
       "    <tr>\n",
       "      <td>1</td>\n",
       "      <td>Morty</td>\n",
       "      <td>garcia</td>\n",
       "      <td>45</td>\n",
       "    </tr>\n",
       "    <tr>\n",
       "      <td>2</td>\n",
       "      <td>Sole</td>\n",
       "      <td>Garcia</td>\n",
       "      <td>65</td>\n",
       "    </tr>\n",
       "  </tbody>\n",
       "</table>\n",
       "</div>"
      ],
      "text/plain": [
       "  nombre apellidos  edad\n",
       "0   Luis   ramirez    25\n",
       "1  Morty    garcia    45\n",
       "2   Sole    Garcia    65"
      ]
     },
     "execution_count": 175,
     "metadata": {},
     "output_type": "execute_result"
    }
   ],
   "source": [
    "#dataframe.(tabla)\n",
    "rick_monty=pd.DataFrame([\n",
    "    [\"Luis\",\"ramirez\",25],\n",
    "    [\"Morty\",\"garcia\",45],\n",
    "    [\"Sole\",\"Garcia\",65]\n",
    "    ],columns=[\"nombre\",\"apellidos\",\"edad\"]\n",
    ")\n",
    "rick_monty"
   ]
  },
  {
   "cell_type": "code",
   "execution_count": 176,
   "metadata": {
    "scrolled": true
   },
   "outputs": [
    {
     "data": {
      "text/plain": [
       "nombre        Morty\n",
       "apellidos    garcia\n",
       "edad             45\n",
       "Name: 1, dtype: object"
      ]
     },
     "execution_count": 176,
     "metadata": {},
     "output_type": "execute_result"
    }
   ],
   "source": [
    "rick_monty.loc[1]"
   ]
  },
  {
   "cell_type": "code",
   "execution_count": 177,
   "metadata": {},
   "outputs": [
    {
     "data": {
      "text/html": [
       "<div>\n",
       "<style scoped>\n",
       "    .dataframe tbody tr th:only-of-type {\n",
       "        vertical-align: middle;\n",
       "    }\n",
       "\n",
       "    .dataframe tbody tr th {\n",
       "        vertical-align: top;\n",
       "    }\n",
       "\n",
       "    .dataframe thead th {\n",
       "        text-align: right;\n",
       "    }\n",
       "</style>\n",
       "<table border=\"1\" class=\"dataframe\">\n",
       "  <thead>\n",
       "    <tr style=\"text-align: right;\">\n",
       "      <th></th>\n",
       "      <th>nombre</th>\n",
       "      <th>apellidos</th>\n",
       "      <th>edad</th>\n",
       "    </tr>\n",
       "  </thead>\n",
       "  <tbody>\n",
       "    <tr>\n",
       "      <td>0</td>\n",
       "      <td>Luis</td>\n",
       "      <td>ramirez</td>\n",
       "      <td>25</td>\n",
       "    </tr>\n",
       "    <tr>\n",
       "      <td>1</td>\n",
       "      <td>Morty</td>\n",
       "      <td>garcia</td>\n",
       "      <td>45</td>\n",
       "    </tr>\n",
       "  </tbody>\n",
       "</table>\n",
       "</div>"
      ],
      "text/plain": [
       "  nombre apellidos  edad\n",
       "0   Luis   ramirez    25\n",
       "1  Morty    garcia    45"
      ]
     },
     "execution_count": 177,
     "metadata": {},
     "output_type": "execute_result"
    }
   ],
   "source": [
    "rick_monty.iloc[:2]"
   ]
  },
  {
   "cell_type": "code",
   "execution_count": 8,
   "metadata": {},
   "outputs": [
    {
     "data": {
      "text/plain": [
       "RangeIndex(start=0, stop=12642, step=1)"
      ]
     },
     "execution_count": 8,
     "metadata": {},
     "output_type": "execute_result"
    }
   ],
   "source": [
    "submission_example.index\n",
    "submission_example.loc[1]\n",
    "submission_example.iloc[1]"
   ]
  },
  {
   "cell_type": "code",
   "execution_count": null,
   "metadata": {},
   "outputs": [],
   "source": [
    "df2=submission_example.set_index(\"columna\")"
   ]
  },
  {
   "cell_type": "code",
   "execution_count": null,
   "metadata": {},
   "outputs": [],
   "source": [
    "#formas de expresar un data frame de pandas--query con parametrizacion\n",
    "variable='valor'\n",
    "submission_example.query(variable==@variable and Fatalities>1)"
   ]
  },
  {
   "cell_type": "code",
   "execution_count": 18,
   "metadata": {},
   "outputs": [
    {
     "data": {
      "text/html": [
       "<div>\n",
       "<style scoped>\n",
       "    .dataframe tbody tr th:only-of-type {\n",
       "        vertical-align: middle;\n",
       "    }\n",
       "\n",
       "    .dataframe tbody tr th {\n",
       "        vertical-align: top;\n",
       "    }\n",
       "\n",
       "    .dataframe thead th {\n",
       "        text-align: right;\n",
       "    }\n",
       "</style>\n",
       "<table border=\"1\" class=\"dataframe\">\n",
       "  <thead>\n",
       "    <tr style=\"text-align: right;\">\n",
       "      <th></th>\n",
       "      <th>ForecastId</th>\n",
       "      <th>ConfirmedCases</th>\n",
       "      <th>Fatalities</th>\n",
       "    </tr>\n",
       "  </thead>\n",
       "  <tbody>\n",
       "    <tr>\n",
       "      <th>46</th>\n",
       "      <td>47</td>\n",
       "      <td>96</td>\n",
       "      <td>3</td>\n",
       "    </tr>\n",
       "    <tr>\n",
       "      <th>47</th>\n",
       "      <td>48</td>\n",
       "      <td>108</td>\n",
       "      <td>3</td>\n",
       "    </tr>\n",
       "    <tr>\n",
       "      <th>48</th>\n",
       "      <td>49</td>\n",
       "      <td>120</td>\n",
       "      <td>3</td>\n",
       "    </tr>\n",
       "    <tr>\n",
       "      <th>49</th>\n",
       "      <td>50</td>\n",
       "      <td>135</td>\n",
       "      <td>3</td>\n",
       "    </tr>\n",
       "    <tr>\n",
       "      <th>50</th>\n",
       "      <td>51</td>\n",
       "      <td>151</td>\n",
       "      <td>4</td>\n",
       "    </tr>\n",
       "    <tr>\n",
       "      <th>...</th>\n",
       "      <td>...</td>\n",
       "      <td>...</td>\n",
       "      <td>...</td>\n",
       "    </tr>\n",
       "    <tr>\n",
       "      <th>12379</th>\n",
       "      <td>12380</td>\n",
       "      <td>13415323</td>\n",
       "      <td>31160841</td>\n",
       "    </tr>\n",
       "    <tr>\n",
       "      <th>12380</th>\n",
       "      <td>12381</td>\n",
       "      <td>16723731</td>\n",
       "      <td>43367829</td>\n",
       "    </tr>\n",
       "    <tr>\n",
       "      <th>12381</th>\n",
       "      <td>12382</td>\n",
       "      <td>20848040</td>\n",
       "      <td>60356796</td>\n",
       "    </tr>\n",
       "    <tr>\n",
       "      <th>12382</th>\n",
       "      <td>12383</td>\n",
       "      <td>25989462</td>\n",
       "      <td>84001043</td>\n",
       "    </tr>\n",
       "    <tr>\n",
       "      <th>12383</th>\n",
       "      <td>12384</td>\n",
       "      <td>32398831</td>\n",
       "      <td>116907716</td>\n",
       "    </tr>\n",
       "  </tbody>\n",
       "</table>\n",
       "<p>3399 rows × 3 columns</p>\n",
       "</div>"
      ],
      "text/plain": [
       "       ForecastId  ConfirmedCases  Fatalities\n",
       "46             47              96           3\n",
       "47             48             108           3\n",
       "48             49             120           3\n",
       "49             50             135           3\n",
       "50             51             151           4\n",
       "...           ...             ...         ...\n",
       "12379       12380        13415323    31160841\n",
       "12380       12381        16723731    43367829\n",
       "12381       12382        20848040    60356796\n",
       "12382       12383        25989462    84001043\n",
       "12383       12384        32398831   116907716\n",
       "\n",
       "[3399 rows x 3 columns]"
      ]
     },
     "execution_count": 18,
     "metadata": {},
     "output_type": "execute_result"
    }
   ],
   "source": [
    "#formas de expresar un data frame de pandas\n",
    "submission_example[(submission_example.ConfirmedCases>10)&(submission_example.Fatalities>2)]"
   ]
  },
  {
   "cell_type": "code",
   "execution_count": 19,
   "metadata": {
    "scrolled": true
   },
   "outputs": [
    {
     "data": {
      "text/html": [
       "<div>\n",
       "<style scoped>\n",
       "    .dataframe tbody tr th:only-of-type {\n",
       "        vertical-align: middle;\n",
       "    }\n",
       "\n",
       "    .dataframe tbody tr th {\n",
       "        vertical-align: top;\n",
       "    }\n",
       "\n",
       "    .dataframe thead th {\n",
       "        text-align: right;\n",
       "    }\n",
       "</style>\n",
       "<table border=\"1\" class=\"dataframe\">\n",
       "  <thead>\n",
       "    <tr style=\"text-align: right;\">\n",
       "      <th></th>\n",
       "      <th>ForecastId</th>\n",
       "      <th>ConfirmedCases</th>\n",
       "      <th>Fatalities</th>\n",
       "    </tr>\n",
       "  </thead>\n",
       "  <tbody>\n",
       "    <tr>\n",
       "      <th>11093</th>\n",
       "      <td>11094</td>\n",
       "      <td>60076016303</td>\n",
       "      <td>13417925528</td>\n",
       "    </tr>\n",
       "    <tr>\n",
       "      <th>11092</th>\n",
       "      <td>11093</td>\n",
       "      <td>40433040839</td>\n",
       "      <td>8367833676</td>\n",
       "    </tr>\n",
       "    <tr>\n",
       "      <th>11091</th>\n",
       "      <td>11092</td>\n",
       "      <td>27212703040</td>\n",
       "      <td>5218440085</td>\n",
       "    </tr>\n",
       "    <tr>\n",
       "      <th>11090</th>\n",
       "      <td>11091</td>\n",
       "      <td>18315001577</td>\n",
       "      <td>3254380760</td>\n",
       "    </tr>\n",
       "    <tr>\n",
       "      <th>11089</th>\n",
       "      <td>11090</td>\n",
       "      <td>12326569775</td>\n",
       "      <td>2029532573</td>\n",
       "    </tr>\n",
       "    <tr>\n",
       "      <th>...</th>\n",
       "      <td>...</td>\n",
       "      <td>...</td>\n",
       "      <td>...</td>\n",
       "    </tr>\n",
       "    <tr>\n",
       "      <th>5490</th>\n",
       "      <td>5491</td>\n",
       "      <td>0</td>\n",
       "      <td>0</td>\n",
       "    </tr>\n",
       "    <tr>\n",
       "      <th>5491</th>\n",
       "      <td>5492</td>\n",
       "      <td>0</td>\n",
       "      <td>0</td>\n",
       "    </tr>\n",
       "    <tr>\n",
       "      <th>5492</th>\n",
       "      <td>5493</td>\n",
       "      <td>0</td>\n",
       "      <td>0</td>\n",
       "    </tr>\n",
       "    <tr>\n",
       "      <th>5493</th>\n",
       "      <td>5494</td>\n",
       "      <td>0</td>\n",
       "      <td>0</td>\n",
       "    </tr>\n",
       "    <tr>\n",
       "      <th>12641</th>\n",
       "      <td>12642</td>\n",
       "      <td>0</td>\n",
       "      <td>0</td>\n",
       "    </tr>\n",
       "  </tbody>\n",
       "</table>\n",
       "<p>12642 rows × 3 columns</p>\n",
       "</div>"
      ],
      "text/plain": [
       "       ForecastId  ConfirmedCases   Fatalities\n",
       "11093       11094     60076016303  13417925528\n",
       "11092       11093     40433040839   8367833676\n",
       "11091       11092     27212703040   5218440085\n",
       "11090       11091     18315001577   3254380760\n",
       "11089       11090     12326569775   2029532573\n",
       "...           ...             ...          ...\n",
       "5490         5491               0            0\n",
       "5491         5492               0            0\n",
       "5492         5493               0            0\n",
       "5493         5494               0            0\n",
       "12641       12642               0            0\n",
       "\n",
       "[12642 rows x 3 columns]"
      ]
     },
     "execution_count": 19,
     "metadata": {},
     "output_type": "execute_result"
    }
   ],
   "source": [
    "#ordenar\n",
    "submission_example.sort_values(by=\"Fatalities\", ascending=False)"
   ]
  },
  {
   "cell_type": "code",
   "execution_count": null,
   "metadata": {},
   "outputs": [],
   "source": [
    "submission_example.groupby('columna).Fatalities.sum()"
   ]
  },
  {
   "cell_type": "code",
   "execution_count": null,
   "metadata": {},
   "outputs": [],
   "source": [
    "submission_example['nueva_col']=submission_example.columna.apply(lambda x: x[0])"
   ]
  },
  {
   "cell_type": "markdown",
   "metadata": {},
   "source": [
    "## Aprendizaje supervisado\n",
    "\n",
    "*** Iniciación de los parametros** -- **calculo del error**  -- **Mejora del parametro** -- Modelo\n",
    "\n",
    "Datos de entrenamiento  80%\n",
    "Datos de test 20% evaluamos el modelo. Sobre generalizacion (overfitting/underfitting) es cuando el modelo memoriaza todos los datos, capturando el ruido.\n",
    "\n",
    "Otro error tipico es tener hacerlo demasadio básico.\n",
    "Sesgo vs VArianza(Bias-varianza traidoff)"
   ]
  },
  {
   "cell_type": "code",
   "execution_count": null,
   "metadata": {},
   "outputs": [],
   "source": []
  },
  {
   "cell_type": "code",
   "execution_count": null,
   "metadata": {},
   "outputs": [],
   "source": []
  },
  {
   "cell_type": "markdown",
   "metadata": {},
   "source": [
    "## DATA SCIENCE Y CORONAVIRUS \n",
    "\n",
    "Datahack : Ponente Antoni Munar. (lead en GFI)-- Todos los modelos son erroneos, pero algunos son utiles.\n",
    "\n",
    "Modelo:Es una representacion simplificada de un fenomeno real.\n",
    "\n",
    "    - Seres Naturales o modelos mecanicos\n",
    "    - Simulacion con agentes\n",
    "    - Matemáticos\n",
    "    - Machine learning\n",
    "    \n",
    "Infeccion: periodos de tiempo.\n",
    "Incubacion---Sintomas\n",
    "latente(desarrollando el virus)------capacidad de infectar a otros\n",
    "\n",
    "Numero básico de reproduccion: Es un promedio de casos de infeccion secundaria a partir de un mismo caso. La condicion de propagacion.R0--2.5 aprox.\n",
    "Numero efectivo de reproducción: Rn=R0*s(proporcion de la poblacion susceptibles de poder ser infectada)\n",
    "\n",
    "Un modelo básico seria el SIR.\n",
    "    1- Susceptibles : Se puede infectar\n",
    "    2- Infectadas_ contagiado\n",
    "    3- Recuperadas dado de alta\n",
    "    \n",
    "Dinamico: caracteristica de la poblacion,comportamiento poblacion..\n",
    "\n",
    "Simplificando:\n",
    "\n",
    "    - intervencion no farmacologica\n",
    "    - inmunizacion permanente pasada la enfermedad\n",
    "    - poblacion homogenea(edad,geografica,colecticos)\n",
    "\n",
    "Ecuaciones\n",
    "\n",
    "\n",
    "infectious disease modelling Emilia vi\n",
    "\n"
   ]
  },
  {
   "cell_type": "code",
   "execution_count": 4,
   "metadata": {},
   "outputs": [
    {
     "data": {
      "text/plain": [
       "'/Users/anaconda3/bin/python'"
      ]
     },
     "execution_count": 4,
     "metadata": {},
     "output_type": "execute_result"
    }
   ],
   "source": [
    "import sys \n",
    "sys.executable"
   ]
  },
  {
   "cell_type": "code",
   "execution_count": 3,
   "metadata": {},
   "outputs": [],
   "source": [
    "#Empezamos leyendo los csv.\n",
    "import numpy as np \n",
    "import pandas as pd\n",
    "import matplotlib.pyplot as plt\n",
    "import time\n",
    "from datetime import datetime\n",
    "\n",
    "submission = pd.read_csv(\"/Users/luisramirezdediego/Desktop/Proyectos/DataScience/ML_Python/repositorio/Datasets_input/submission.csv\", sep =';', usecols = ['Id','CasosConfirmados','Fallecidos'])\n",
    "test = pd.read_csv(\"/Users/luisramirezdediego/Desktop/Proyectos/DataScience/ML_Python/repositorio/Datasets_input/test.csv\",infer_datetime_format = True )\n",
    "train = pd.read_csv(\"/Users/luisramirezdediego/Desktop/Proyectos/DataScience/ML_Python/repositorio/Datasets_input/train.csv\")\n"
   ]
  },
  {
   "cell_type": "code",
   "execution_count": 107,
   "metadata": {},
   "outputs": [
    {
     "data": {
      "text/plain": [
       "Id                   object\n",
       "ProvinciaEstado      object\n",
       "PaisRegion           object\n",
       "Fecha                object\n",
       "CasosConfirmados    float64\n",
       "Fallecidos          float64\n",
       "dtype: object"
      ]
     },
     "execution_count": 107,
     "metadata": {},
     "output_type": "execute_result"
    }
   ],
   "source": [
    "#Comenzamos con el analisis exploratorio EDA\n",
    "train.dtypes"
   ]
  },
  {
   "cell_type": "code",
   "execution_count": 89,
   "metadata": {},
   "outputs": [
    {
     "data": {
      "text/plain": [
       "Id                          object\n",
       "ProvinciaEstado             object\n",
       "PaisRegion                  object\n",
       "Fecha               datetime64[ns]\n",
       "CasosConfirmados           float64\n",
       "Fallecidos                 float64\n",
       "dtype: object"
      ]
     },
     "execution_count": 89,
     "metadata": {},
     "output_type": "execute_result"
    }
   ],
   "source": [
    "train.ProvinciaEstado.fillna('None', inplace= True)\n",
    "train['Fecha']=pd.to_datetime(train['Fecha']).dt.normalize()\n",
    "train.dtypes\n",
    "#display(train.describe())"
   ]
  },
  {
   "cell_type": "code",
   "execution_count": 90,
   "metadata": {},
   "outputs": [
    {
     "data": {
      "text/plain": [
       "0"
      ]
     },
     "execution_count": 90,
     "metadata": {},
     "output_type": "execute_result"
    }
   ],
   "source": [
    "#Comprobamos si tenemos algun valor null\n",
    "len(train[pd.isnull(train.ProvinciaEstado)])"
   ]
  },
  {
   "cell_type": "code",
   "execution_count": 91,
   "metadata": {},
   "outputs": [
    {
     "data": {
      "text/html": [
       "<div>\n",
       "<style scoped>\n",
       "    .dataframe tbody tr th:only-of-type {\n",
       "        vertical-align: middle;\n",
       "    }\n",
       "\n",
       "    .dataframe tbody tr th {\n",
       "        vertical-align: top;\n",
       "    }\n",
       "\n",
       "    .dataframe thead th {\n",
       "        text-align: right;\n",
       "    }\n",
       "</style>\n",
       "<table border=\"1\" class=\"dataframe\">\n",
       "  <thead>\n",
       "    <tr style=\"text-align: right;\">\n",
       "      <th></th>\n",
       "      <th>Id</th>\n",
       "      <th>ProvinciaEstado</th>\n",
       "      <th>PaisRegion</th>\n",
       "      <th>Fecha</th>\n",
       "      <th>CasosConfirmados</th>\n",
       "      <th>Fallecidos</th>\n",
       "    </tr>\n",
       "  </thead>\n",
       "  <tbody>\n",
       "    <tr>\n",
       "      <td>17905</td>\n",
       "      <td>25859</td>\n",
       "      <td>Florida</td>\n",
       "      <td>US</td>\n",
       "      <td>2020-04-02</td>\n",
       "      <td>9008.0</td>\n",
       "      <td>164.0</td>\n",
       "    </tr>\n",
       "  </tbody>\n",
       "</table>\n",
       "</div>"
      ],
      "text/plain": [
       "          Id ProvinciaEstado PaisRegion      Fecha  CasosConfirmados  \\\n",
       "17905  25859         Florida         US 2020-04-02            9008.0   \n",
       "\n",
       "       Fallecidos  \n",
       "17905       164.0  "
      ]
     },
     "execution_count": 91,
     "metadata": {},
     "output_type": "execute_result"
    }
   ],
   "source": [
    "train.sample()"
   ]
  },
  {
   "cell_type": "code",
   "execution_count": 92,
   "metadata": {},
   "outputs": [
    {
     "name": "stdout",
     "output_type": "stream",
     "text": [
      "Numero de paises de nuestro dataset 179\n",
      "Datos desde el dia 2020-01-22 00:00:00  hasta  2020-04-04 00:00:00 un total de  74 dias\n",
      "Provincias/Estado informados:  8\n"
     ]
    }
   ],
   "source": [
    "print ('Numero de paises de nuestro dataset', train.PaisRegion.nunique())\n",
    "\n",
    "print (\"Datos desde el dia\", min(train['Fecha']), \" hasta \", max(train['Fecha']), \"un total de \", train['Fecha'].nunique(),\"dias\")\n",
    "print(\"Provincias/Estado informados: \", train.loc[train['ProvinciaEstado']!='None']['PaisRegion'].nunique())"
   ]
  },
  {
   "cell_type": "code",
   "execution_count": 103,
   "metadata": {},
   "outputs": [
    {
     "data": {
      "text/html": [
       "<div>\n",
       "<style scoped>\n",
       "    .dataframe tbody tr th:only-of-type {\n",
       "        vertical-align: middle;\n",
       "    }\n",
       "\n",
       "    .dataframe tbody tr th {\n",
       "        vertical-align: top;\n",
       "    }\n",
       "\n",
       "    .dataframe thead tr th {\n",
       "        text-align: left;\n",
       "    }\n",
       "\n",
       "    .dataframe thead tr:last-of-type th {\n",
       "        text-align: right;\n",
       "    }\n",
       "</style>\n",
       "<table border=\"1\" class=\"dataframe\">\n",
       "  <thead>\n",
       "    <tr>\n",
       "      <th></th>\n",
       "      <th>CasosConfirmados</th>\n",
       "      <th>Fallecidos</th>\n",
       "    </tr>\n",
       "    <tr>\n",
       "      <th></th>\n",
       "      <th>CasosConfirmados</th>\n",
       "      <th>Fallecidos</th>\n",
       "    </tr>\n",
       "    <tr>\n",
       "      <th>Fecha</th>\n",
       "      <th></th>\n",
       "      <th></th>\n",
       "    </tr>\n",
       "  </thead>\n",
       "  <tbody>\n",
       "    <tr>\n",
       "      <td>2020-01-22</td>\n",
       "      <td>553.0</td>\n",
       "      <td>17.0</td>\n",
       "    </tr>\n",
       "    <tr>\n",
       "      <td>2020-01-23</td>\n",
       "      <td>652.0</td>\n",
       "      <td>18.0</td>\n",
       "    </tr>\n",
       "    <tr>\n",
       "      <td>2020-01-24</td>\n",
       "      <td>937.0</td>\n",
       "      <td>26.0</td>\n",
       "    </tr>\n",
       "    <tr>\n",
       "      <td>2020-01-25</td>\n",
       "      <td>1430.0</td>\n",
       "      <td>42.0</td>\n",
       "    </tr>\n",
       "    <tr>\n",
       "      <td>2020-01-26</td>\n",
       "      <td>2110.0</td>\n",
       "      <td>56.0</td>\n",
       "    </tr>\n",
       "    <tr>\n",
       "      <td>...</td>\n",
       "      <td>...</td>\n",
       "      <td>...</td>\n",
       "    </tr>\n",
       "    <tr>\n",
       "      <td>2020-03-31</td>\n",
       "      <td>847534.0</td>\n",
       "      <td>41941.0</td>\n",
       "    </tr>\n",
       "    <tr>\n",
       "      <td>2020-04-01</td>\n",
       "      <td>922547.0</td>\n",
       "      <td>46639.0</td>\n",
       "    </tr>\n",
       "    <tr>\n",
       "      <td>2020-04-02</td>\n",
       "      <td>1003005.0</td>\n",
       "      <td>52809.0</td>\n",
       "    </tr>\n",
       "    <tr>\n",
       "      <td>2020-04-03</td>\n",
       "      <td>1085677.0</td>\n",
       "      <td>58608.0</td>\n",
       "    </tr>\n",
       "    <tr>\n",
       "      <td>2020-04-04</td>\n",
       "      <td>1187069.0</td>\n",
       "      <td>64424.0</td>\n",
       "    </tr>\n",
       "  </tbody>\n",
       "</table>\n",
       "<p>74 rows × 2 columns</p>\n",
       "</div>"
      ],
      "text/plain": [
       "           CasosConfirmados Fallecidos\n",
       "           CasosConfirmados Fallecidos\n",
       "Fecha                                 \n",
       "2020-01-22            553.0       17.0\n",
       "2020-01-23            652.0       18.0\n",
       "2020-01-24            937.0       26.0\n",
       "2020-01-25           1430.0       42.0\n",
       "2020-01-26           2110.0       56.0\n",
       "...                     ...        ...\n",
       "2020-03-31         847534.0    41941.0\n",
       "2020-04-01         922547.0    46639.0\n",
       "2020-04-02        1003005.0    52809.0\n",
       "2020-04-03        1085677.0    58608.0\n",
       "2020-04-04        1187069.0    64424.0\n",
       "\n",
       "[74 rows x 2 columns]"
      ]
     },
     "metadata": {},
     "output_type": "display_data"
    }
   ],
   "source": [
    "confirmados_total_fecha = train.groupby(\"Fecha\").agg({'CasosConfirmados':['sum']}).rename(columns={'sum':'CasosConfirmados'})\n",
    "fallecidos_total_fecha = train.groupby(\"Fecha\").agg({'Fallecidos':['sum']}).rename(columns={'sum':'Fallecidos'})\n",
    "total_fecha=confirmados_total_fecha.join(fallecidos_total_fecha)\n"
   ]
  },
  {
   "cell_type": "code",
   "execution_count": 115,
   "metadata": {},
   "outputs": [
    {
     "data": {
      "text/plain": [
       "Text(0.5, 0, 'Fecha')"
      ]
     },
     "execution_count": 115,
     "metadata": {},
     "output_type": "execute_result"
    },
    {
     "data": {
      "image/png": "[encoded data removed]",
      "text/plain": [
       "<Figure size 1224x504 with 2 Axes>"
      ]
     },
     "metadata": {
      "needs_background": "light"
     },
     "output_type": "display_data"
    }
   ],
   "source": [
    "#Dibujamos la grafica\n",
    "fig,(ax1,ax2) = plt.subplots(1,2, figsize=(17,7))\n",
    "#definimos el primer grafico\n",
    "total_fecha.plot(ax=ax1)\n",
    "ax1.set_title(\"Casos confirmados globales\",size=14)\n",
    "ax1.set_ylabel(\"Numero de casos\",size=12)\n",
    "ax1.set_xlabel(\"Fecha\",size=12)\n",
    "\n",
    "#definimos el segundo\n",
    "fallecidos_total_fecha.plot(ax=ax2, color='orange')\n",
    "ax2.set_title(\"Casos confirmados globales\",size=14)\n",
    "ax2.set_ylabel(\"Numero de casos\",size=12)\n",
    "ax2.set_xlabel(\"Fecha\",size=12)"
   ]
  },
  {
   "cell_type": "markdown",
   "metadata": {},
   "source": [
    "**Observaciones:** La curva global muestra una estructura clara, pero estos números están fuertemente afectados por el país del vector cero, China. Dado que COVID-19 comenzó allí, durante la expansión inicial del virus no hubo información confiable sobre los casos infectados reales. De hecho, los criterios para considerar los casos de infección se modificaron alrededor de 2020-02-11, lo que perturbó fuertemente la curva como se puede ver en la figura."
   ]
  },
  {
   "cell_type": "code",
   "execution_count": 117,
   "metadata": {},
   "outputs": [],
   "source": [
    "#vamos hacer lo mismo excluyendo a china\n",
    "confirmados_total_fecha_NO_china = train[train['PaisRegion']!='China'].groupby(\"Fecha\").agg({'CasosConfirmados':['sum']}).rename(columns={'sum':'CasosConfirmados'})\n",
    "fallecidos_total_fecha_NO_china = train[train['PaisRegion']!='China'].groupby(\"Fecha\").agg({'Fallecidos':['sum']}).rename(columns={'sum':'Fallecidos'})\n",
    "total_fecha_NO_china=confirmados_total_fecha_NO_china.join(fallecidos_total_fecha_NO_china)"
   ]
  },
  {
   "cell_type": "code",
   "execution_count": 120,
   "metadata": {},
   "outputs": [
    {
     "data": {
      "text/plain": [
       "Text(0.5, 0, 'Fecha')"
      ]
     },
     "execution_count": 120,
     "metadata": {},
     "output_type": "execute_result"
    },
    {
     "data": {
      "image/png": "[encoded data removed]",
      "text/plain": [
       "<Figure size 1224x504 with 2 Axes>"
      ]
     },
     "metadata": {
      "needs_background": "light"
     },
     "output_type": "display_data"
    }
   ],
   "source": [
    "#Dibujamos la grafica sin CHINA\n",
    "fig,(ax1,ax2) = plt.subplots(1,2, figsize=(17,7))\n",
    "#definimos el primer grafico\n",
    "total_fecha_NO_china.plot(ax=ax1)\n",
    "ax1.set_title(\"Casos confirmados sin china\",size=14)\n",
    "ax1.set_ylabel(\"Numero de casos\",size=12)\n",
    "ax1.set_xlabel(\"Fecha\",size=12)\n",
    "\n",
    "#definimos el segundo sin CHINA\n",
    "fallecidos_total_fecha_NO_china.plot(ax=ax2, color='orange')\n",
    "ax2.set_title(\"Casos confirmados sin china\",size=14)\n",
    "ax2.set_ylabel(\"Numero de casos\",size=12)\n",
    "ax2.set_xlabel(\"Fecha\",size=12)\n"
   ]
  },
  {
   "cell_type": "markdown",
   "metadata": {},
   "source": [
    "En este caso, el comportamiento general parece más limpio y, de hecho, la curva se asemeja a un modelo epidemiológico típico como SIR. Los modelos SIR presentan un gran aumento en el número de infecciones que, una vez que alcanza el máximo del contagio, disminuye con una pendiente más baja. A modo de comparación, una simulación SIR de la sección 2. Modelo SIR:"
   ]
  },
  {
   "cell_type": "code",
   "execution_count": 125,
   "metadata": {},
   "outputs": [],
   "source": [
    "#analizamos los datos de ESPANA\n",
    "confirmados_totales_fecha_ESP=train[train['PaisRegion']=='Spain'].groupby('Fecha').agg({'CasosConfirmados':'sum'}).rename(columns={'sum':'CasosConfirmados'})\n",
    "fallecidos_total_fecha_ESP = train[train['PaisRegion']=='Spain'].groupby(\"Fecha\").agg({'Fallecidos':['sum']}).rename(columns={'sum':'Fallecidos'})\n",
    "total_fecha_ESP=confirmados_totales_fecha_ESP.join(fallecidos_total_fecha_ESP)"
   ]
  },
  {
   "cell_type": "code",
   "execution_count": 143,
   "metadata": {},
   "outputs": [
    {
     "name": "stderr",
     "output_type": "stream",
     "text": [
      "/Users/anaconda3/lib/python3.7/site-packages/pandas/core/reshape/merge.py:617: UserWarning: merging between different levels can give an unintended result (1 levels on the left, 2 on the right)\n",
      "  warnings.warn(msg, UserWarning)\n"
     ]
    }
   ],
   "source": [
    "#analizamos los datos de ITALIA\n",
    "confirmados_totales_fecha_Italy=train[train['PaisRegion']=='Italy'].groupby('Fecha').agg({'CasosConfirmados':'sum'}).rename(columns={'sum':'CasosConfirmados'})\n",
    "fallecidos_total_fecha_Italy = train[train['PaisRegion']=='Italy'].groupby(\"Fecha\").agg({'Fallecidos':['sum']}).rename(columns={'sum':'Fallecidos'})\n",
    "total_fecha_Italy=confirmados_totales_fecha_Italy.join(fallecidos_total_fecha_Italy)"
   ]
  },
  {
   "cell_type": "code",
   "execution_count": 128,
   "metadata": {},
   "outputs": [
    {
     "data": {
      "text/plain": [
       "Text(0.5, 0, 'Fecha')"
      ]
     },
     "execution_count": 128,
     "metadata": {},
     "output_type": "execute_result"
    },
    {
     "data": {
      "image/png": "[encoded data removed]",
      "text/plain": [
       "<Figure size 1224x504 with 2 Axes>"
      ]
     },
     "metadata": {
      "needs_background": "light"
     },
     "output_type": "display_data"
    }
   ],
   "source": [
    "#Dibujamos la grafica Spain\n",
    "fig,(ax1,ax2) = plt.subplots(1,2, figsize=(17,7))\n",
    "#definimos el primer grafico\n",
    "total_fecha_ESP.plot(ax=ax1)\n",
    "ax1.set_title(\"Casos confirmados Spain\",size=14)\n",
    "ax1.set_ylabel(\"Numero de casos\",size=12)\n",
    "ax1.set_xlabel(\"Fecha\",size=12)\n",
    "\n",
    "#definimos el segundo Italia\n",
    "total_fecha_Italy.plot(ax=ax2)\n",
    "ax2.set_title(\"Casos confirmados Italia\",size=14)\n",
    "ax2.set_ylabel(\"Numero de casos\",size=12)\n",
    "ax2.set_xlabel(\"Fecha\",size=12)\n"
   ]
  },
  {
   "cell_type": "code",
   "execution_count": 132,
   "metadata": {},
   "outputs": [
    {
     "data": {
      "text/html": [
       "<div>\n",
       "<style scoped>\n",
       "    .dataframe tbody tr th:only-of-type {\n",
       "        vertical-align: middle;\n",
       "    }\n",
       "\n",
       "    .dataframe tbody tr th {\n",
       "        vertical-align: top;\n",
       "    }\n",
       "\n",
       "    .dataframe thead th {\n",
       "        text-align: right;\n",
       "    }\n",
       "</style>\n",
       "<table border=\"1\" class=\"dataframe\">\n",
       "  <thead>\n",
       "    <tr style=\"text-align: right;\">\n",
       "      <th></th>\n",
       "      <th>CasosConfirmados</th>\n",
       "    </tr>\n",
       "    <tr>\n",
       "      <th>Fecha</th>\n",
       "      <th></th>\n",
       "    </tr>\n",
       "  </thead>\n",
       "  <tbody>\n",
       "    <tr>\n",
       "      <td>2020-01-22</td>\n",
       "      <td>0.0</td>\n",
       "    </tr>\n",
       "    <tr>\n",
       "      <td>2020-01-23</td>\n",
       "      <td>0.0</td>\n",
       "    </tr>\n",
       "    <tr>\n",
       "      <td>2020-01-24</td>\n",
       "      <td>0.0</td>\n",
       "    </tr>\n",
       "    <tr>\n",
       "      <td>2020-01-25</td>\n",
       "      <td>0.0</td>\n",
       "    </tr>\n",
       "    <tr>\n",
       "      <td>2020-01-26</td>\n",
       "      <td>0.0</td>\n",
       "    </tr>\n",
       "    <tr>\n",
       "      <td>...</td>\n",
       "      <td>...</td>\n",
       "    </tr>\n",
       "    <tr>\n",
       "      <td>2020-03-31</td>\n",
       "      <td>105792.0</td>\n",
       "    </tr>\n",
       "    <tr>\n",
       "      <td>2020-04-01</td>\n",
       "      <td>110574.0</td>\n",
       "    </tr>\n",
       "    <tr>\n",
       "      <td>2020-04-02</td>\n",
       "      <td>115242.0</td>\n",
       "    </tr>\n",
       "    <tr>\n",
       "      <td>2020-04-03</td>\n",
       "      <td>119827.0</td>\n",
       "    </tr>\n",
       "    <tr>\n",
       "      <td>2020-04-04</td>\n",
       "      <td>124632.0</td>\n",
       "    </tr>\n",
       "  </tbody>\n",
       "</table>\n",
       "<p>74 rows × 1 columns</p>\n",
       "</div>"
      ],
      "text/plain": [
       "            CasosConfirmados\n",
       "Fecha                       \n",
       "2020-01-22               0.0\n",
       "2020-01-23               0.0\n",
       "2020-01-24               0.0\n",
       "2020-01-25               0.0\n",
       "2020-01-26               0.0\n",
       "...                      ...\n",
       "2020-03-31          105792.0\n",
       "2020-04-01          110574.0\n",
       "2020-04-02          115242.0\n",
       "2020-04-03          119827.0\n",
       "2020-04-04          124632.0\n",
       "\n",
       "[74 rows x 1 columns]"
      ]
     },
     "execution_count": 132,
     "metadata": {},
     "output_type": "execute_result"
    }
   ],
   "source": [
    "#calculamos porcentajes\n",
    "poblacion_Spain =47100396\n",
    "poblacion_Italia=60317000\n",
    "confirmados_totales_fecha_Italy"
   ]
  },
  {
   "cell_type": "code",
   "execution_count": 135,
   "metadata": {},
   "outputs": [],
   "source": [
    "confirmados_totales_fecha_Italy['CasosConfimadosP'] = total_fecha_Italy.CasosConfirmados/poblacion_Italia*100"
   ]
  },
  {
   "cell_type": "code",
   "execution_count": 151,
   "metadata": {},
   "outputs": [],
   "source": [
    "#analizamos los datos de ESPANA primer caso (PACIENTE 0)\n",
    "confirmados_tot_ESP_first=train[(train['PaisRegion']=='Spain') &( train['CasosConfirmados']!=0)].groupby('Fecha').agg({'CasosConfirmados':'sum'}).rename(columns={'sum':'CasosConfirmados'})\n",
    "fallecidos_tot_ESP_first =train[(train['PaisRegion']=='Spain') &( train['CasosConfirmados']!=0)].groupby(\"Fecha\").agg({'Fallecidos':'sum'}).rename(columns={'sum':'Fallecidos'})\n",
    "total_ESP_first=confirmados_tot_ESP_first.join(fallecidos_tot_ESP_first)\n"
   ]
  },
  {
   "cell_type": "code",
   "execution_count": 153,
   "metadata": {},
   "outputs": [
    {
     "data": {
      "text/html": [
       "<div>\n",
       "<style scoped>\n",
       "    .dataframe tbody tr th:only-of-type {\n",
       "        vertical-align: middle;\n",
       "    }\n",
       "\n",
       "    .dataframe tbody tr th {\n",
       "        vertical-align: top;\n",
       "    }\n",
       "\n",
       "    .dataframe thead th {\n",
       "        text-align: right;\n",
       "    }\n",
       "</style>\n",
       "<table border=\"1\" class=\"dataframe\">\n",
       "  <thead>\n",
       "    <tr style=\"text-align: right;\">\n",
       "      <th></th>\n",
       "      <th>CasosConfirmados</th>\n",
       "      <th>(Fallecidos, Fallecidos)</th>\n",
       "    </tr>\n",
       "    <tr>\n",
       "      <th>Fecha</th>\n",
       "      <th></th>\n",
       "      <th></th>\n",
       "    </tr>\n",
       "  </thead>\n",
       "  <tbody>\n",
       "    <tr>\n",
       "      <td>2020-01-31</td>\n",
       "      <td>2.0</td>\n",
       "      <td>0.0</td>\n",
       "    </tr>\n",
       "    <tr>\n",
       "      <td>2020-02-01</td>\n",
       "      <td>2.0</td>\n",
       "      <td>0.0</td>\n",
       "    </tr>\n",
       "    <tr>\n",
       "      <td>2020-02-02</td>\n",
       "      <td>2.0</td>\n",
       "      <td>0.0</td>\n",
       "    </tr>\n",
       "    <tr>\n",
       "      <td>2020-02-03</td>\n",
       "      <td>2.0</td>\n",
       "      <td>0.0</td>\n",
       "    </tr>\n",
       "    <tr>\n",
       "      <td>2020-02-04</td>\n",
       "      <td>2.0</td>\n",
       "      <td>0.0</td>\n",
       "    </tr>\n",
       "    <tr>\n",
       "      <td>...</td>\n",
       "      <td>...</td>\n",
       "      <td>...</td>\n",
       "    </tr>\n",
       "    <tr>\n",
       "      <td>2020-03-31</td>\n",
       "      <td>105792.0</td>\n",
       "      <td>12428.0</td>\n",
       "    </tr>\n",
       "    <tr>\n",
       "      <td>2020-04-01</td>\n",
       "      <td>110574.0</td>\n",
       "      <td>13155.0</td>\n",
       "    </tr>\n",
       "    <tr>\n",
       "      <td>2020-04-02</td>\n",
       "      <td>115242.0</td>\n",
       "      <td>13915.0</td>\n",
       "    </tr>\n",
       "    <tr>\n",
       "      <td>2020-04-03</td>\n",
       "      <td>119827.0</td>\n",
       "      <td>14681.0</td>\n",
       "    </tr>\n",
       "    <tr>\n",
       "      <td>2020-04-04</td>\n",
       "      <td>124632.0</td>\n",
       "      <td>15362.0</td>\n",
       "    </tr>\n",
       "  </tbody>\n",
       "</table>\n",
       "<p>65 rows × 2 columns</p>\n",
       "</div>"
      ],
      "text/plain": [
       "            CasosConfirmados  (Fallecidos, Fallecidos)\n",
       "Fecha                                                 \n",
       "2020-01-31               2.0                       0.0\n",
       "2020-02-01               2.0                       0.0\n",
       "2020-02-02               2.0                       0.0\n",
       "2020-02-03               2.0                       0.0\n",
       "2020-02-04               2.0                       0.0\n",
       "...                      ...                       ...\n",
       "2020-03-31          105792.0                   12428.0\n",
       "2020-04-01          110574.0                   13155.0\n",
       "2020-04-02          115242.0                   13915.0\n",
       "2020-04-03          119827.0                   14681.0\n",
       "2020-04-04          124632.0                   15362.0\n",
       "\n",
       "[65 rows x 2 columns]"
      ]
     },
     "execution_count": 153,
     "metadata": {},
     "output_type": "execute_result"
    }
   ],
   "source": [
    "\n",
    "#analizamos los datos de ITALIA primer caso (PACIENTE 0)\n",
    "confirmados_tot_Italy_first=train[(train['PaisRegion']=='Italy')&(train['CasosConfirmados']!=0)].groupby('Fecha').agg({'CasosConfirmados':'sum'}).rename(columns={'sum':'CasosConfirmados'})\n",
    "fallecidos_tot_Italy_first =train[(train['PaisRegion']=='Italy')&(train['CasosConfirmados']!=0)].groupby(\"Fecha\").agg({'Fallecidos':['sum']}).rename(columns={'sum':'Fallecidos'})\n",
    "total_Italy_first=confirmados_tot_Italy_first.join(fallecidos_tot_Italy_first)\n",
    "total_Italy_first"
   ]
  },
  {
   "cell_type": "code",
   "execution_count": 156,
   "metadata": {},
   "outputs": [],
   "source": [
    "italy=[i for i in total_Italy_first['CasosConfirmados'].values]\n",
    "italy30=italy[0:70]"
   ]
  },
  {
   "cell_type": "code",
   "execution_count": 164,
   "metadata": {},
   "outputs": [],
   "source": [
    "spain=[i for i in total_ESP_first['CasosConfirmados'].values]\n",
    "spain30=spain[0:70]"
   ]
  },
  {
   "cell_type": "code",
   "execution_count": 178,
   "metadata": {},
   "outputs": [
    {
     "data": {
      "image/png": "[encoded data removed]",
      "text/plain": [
       "<Figure size 864x432 with 1 Axes>"
      ]
     },
     "metadata": {
      "needs_background": "light"
     },
     "output_type": "display_data"
    }
   ],
   "source": [
    "#graficamos\n",
    "plt.figure(figsize=(12,6))\n",
    "plt.plot(italy30)\n",
    "plt.plot(spain30)\n",
    "plt.legend([\"Spain\",\"Italy\"],loc=\"upper left\")\n",
    "plt.title(\"COVID/19 desde los primeros contagiados\")\n",
    "plt.xlabel(\"Dias\", size=11)\n",
    "plt.ylabel(\"Casos confirmados\", size=11)\n",
    "plt.ylim(0,130000)\n",
    "plt.show()"
   ]
  },
  {
   "cell_type": "markdown",
   "metadata": {},
   "source": [
    "Italia. Con casi 120,000 casos confirmados, Italia muestra uno de los escenarios más alarmantes de COVID-19. La curva de infecciones es muy empinada y más del 2% de la población ha sido infectada.\n",
    "España. España tiene el mismo número de casos infectados acumulativos que Italia, cerca de 120,000. Sin embargo, la población total de España es menor (alrededor de 42 millones) y, por lo tanto, el porcentaje de población infectada aumenta hasta un 3%."
   ]
  },
  {
   "cell_type": "code",
   "execution_count": 179,
   "metadata": {},
   "outputs": [],
   "source": []
  },
  {
   "cell_type": "code",
   "execution_count": null,
   "metadata": {},
   "outputs": [],
   "source": []
  },
  {
   "cell_type": "code",
   "execution_count": null,
   "metadata": {},
   "outputs": [],
   "source": []
  },
  {
   "cell_type": "code",
   "execution_count": 208,
   "metadata": {},
   "outputs": [],
   "source": []
  },
  {
   "cell_type": "code",
   "execution_count": null,
   "metadata": {},
   "outputs": [],
   "source": []
  },
  {
   "cell_type": "code",
   "execution_count": null,
   "metadata": {},
   "outputs": [],
   "source": []
  }
 ],
 "metadata": {
  "kernelspec": {
   "display_name": "Python 3",
   "language": "python",
   "name": "python3"
  },
  "language_info": {
   "codemirror_mode": {
    "name": "ipython",
    "version": 3
   },
   "file_extension": ".py",
   "mimetype": "text/x-python",
   "name": "python",
   "nbconvert_exporter": "python",
   "pygments_lexer": "ipython3",
   "version": "3.10.4"
  }
 },
 "nbformat": 4,
 "nbformat_minor": 2
}
